{
  "nbformat": 4,
  "nbformat_minor": 0,
  "metadata": {
    "colab": {
      "provenance": [],
      "authorship_tag": "ABX9TyPN6u+ru0BFEaEG3gViZG/m",
      "include_colab_link": true
    },
    "kernelspec": {
      "name": "python3",
      "display_name": "Python 3"
    },
    "language_info": {
      "name": "python"
    }
  },
  "cells": [
    {
      "cell_type": "markdown",
      "metadata": {
        "id": "view-in-github",
        "colab_type": "text"
      },
      "source": [
        "<a href=\"https://colab.research.google.com/github/ArshadJafri/LLM_Centaur/blob/main/Dataset_Creation.ipynb\" target=\"_parent\"><img src=\"https://colab.research.google.com/assets/colab-badge.svg\" alt=\"Open In Colab\"/></a>"
      ]
    },
    {
      "cell_type": "code",
      "source": [
        "import json\n",
        "\n",
        "input_file = \"/content/sample_data/final_row_prompt.json\"     # your JSON file\n",
        "output_file = \"/content/sample_data/final_row_prompt.jsonl\"   # new JSONL file\n",
        "\n",
        "# Load the full JSON (list of dicts)\n",
        "with open(input_file, \"r\") as f:\n",
        "    data = json.load(f)\n",
        "\n",
        "# Save each entry on a new line (JSONL format)\n",
        "with open(output_file, \"w\") as f:\n",
        "    for row in data:\n",
        "        f.write(json.dumps(row) + \"\\n\")\n",
        "\n",
        "print(f\"✅ Converted {len(data)} rows to {output_file}\")\n"
      ],
      "metadata": {
        "colab": {
          "base_uri": "https://localhost:8080/"
        },
        "id": "SY2V7j-ZLYWY",
        "outputId": "9f56fce0-4b0e-4552-dc56-41256ba2e428"
      },
      "execution_count": 2,
      "outputs": [
        {
          "output_type": "stream",
          "name": "stdout",
          "text": [
            "✅ Converted 27500 rows to /content/sample_data/final_row_prompt.jsonl\n"
          ]
        }
      ]
    },
    {
      "cell_type": "code",
      "execution_count": 5,
      "metadata": {
        "colab": {
          "base_uri": "https://localhost:8080/"
        },
        "id": "8pE9aevKK1Qr",
        "outputId": "04fdea46-ee27-41d3-c3a7-8f2ff32e9aeb"
      },
      "outputs": [
        {
          "output_type": "stream",
          "name": "stdout",
          "text": [
            "✅ Converted 27500 rows to Psych-101 style → /content/sample_data/ptsd_psych101_clinical.jsonl\n"
          ]
        }
      ],
      "source": [
        "import json\n",
        "\n",
        "input_file = \"/content/sample_data/final_row_prompt.jsonl\"\n",
        "output_file = \"/content/sample_data/ptsd_psych101_clinical.jsonl\"\n",
        "\n",
        "rows = []\n",
        "with open(input_file, \"r\", encoding=\"utf-8\") as f:\n",
        "    for line in f:\n",
        "        line = line.strip()\n",
        "        if not line:\n",
        "            continue\n",
        "        row = json.loads(line)\n",
        "\n",
        "        text = (f\"You are a clinician reviewing a psychological case. \"\n",
        "                f\"The case reads: {row['event_description']}. \"\n",
        "                f\"How severe is the PTSD? \"\n",
        "                f\"You answer <<{row['event_rating']} with {row['PTSD_Level']}>>.\")\n",
        "\n",
        "        rows.append({\n",
        "            \"text\": text,\n",
        "            \"experiment\": \"ptsd_eval\",\n",
        "            \"participant\": f\"subj_{row['participantid_num']:04d}\"\n",
        "        })\n",
        "\n",
        "with open(output_file, \"w\", encoding=\"utf-8\") as f:\n",
        "    for r in rows:\n",
        "        f.write(json.dumps(r) + \"\\n\")\n",
        "\n",
        "print(f\"✅ Converted {len(rows)} rows to Psych-101 style → {output_file}\")\n"
      ]
    },
    {
      "cell_type": "code",
      "source": [
        "import json\n",
        "from collections import defaultdict\n",
        "\n",
        "input_file = \"/content/sample_data/final_row_prompt.jsonl\"\n",
        "output_file = \"/content/sample_data/ptsd_psych101_transcripts_v2.jsonl\"\n",
        "\n",
        "# Group events by participant\n",
        "participants = defaultdict(list)\n",
        "with open(input_file, \"r\", encoding=\"utf-8\") as f:\n",
        "    for line in f:\n",
        "        line = line.strip()\n",
        "        if not line:\n",
        "            continue\n",
        "        row = json.loads(line)\n",
        "        participants[row[\"participantid_num\"]].append(row)\n",
        "\n",
        "rows = []\n",
        "for pid, events in participants.items():\n",
        "    # Sort events if needed (optional)\n",
        "    # events = sorted(events, key=lambda x: x.get(\"event_id\", 0))\n",
        "\n",
        "    # Build transcript\n",
        "    transcript = [\"You are a clinician reviewing psychological cases.\"]\n",
        "    for ev in events:\n",
        "        transcript.append(\n",
        "            f\"The case reads: {ev['event_description']}. \"\n",
        "            f\"How severe is the PTSD? \"\n",
        "            f\"You answer <<{ev['event_rating']} with {ev['PTSD_Level']}>>.\"\n",
        "        )\n",
        "    full_text = \" \".join(transcript)\n",
        "\n",
        "    rows.append({\n",
        "        \"text\": full_text,\n",
        "        \"experiment\": \"ptsd_eval\",\n",
        "        \"participant\": f\"subj_{pid:04d}\"\n",
        "    })\n",
        "\n",
        "# Save as JSONL\n",
        "with open(output_file, \"w\", encoding=\"utf-8\") as f:\n",
        "    for r in rows:\n",
        "        f.write(json.dumps(r) + \"\\n\")\n",
        "\n",
        "print(f\"✅ Created {len(rows)} participant transcripts → {output_file}\")\n"
      ],
      "metadata": {
        "colab": {
          "base_uri": "https://localhost:8080/"
        },
        "id": "jDi75JgXLCVh",
        "outputId": "943f8b11-a28e-4f7b-adc5-2824375c0ada"
      },
      "execution_count": 6,
      "outputs": [
        {
          "output_type": "stream",
          "name": "stdout",
          "text": [
            "✅ Created 250 participant transcripts → /content/sample_data/ptsd_psych101_transcripts_v2.jsonl\n"
          ]
        }
      ]
    },
    {
      "cell_type": "code",
      "source": [],
      "metadata": {
        "id": "RNVPDDUiR8A7"
      },
      "execution_count": null,
      "outputs": []
    }
  ]
}